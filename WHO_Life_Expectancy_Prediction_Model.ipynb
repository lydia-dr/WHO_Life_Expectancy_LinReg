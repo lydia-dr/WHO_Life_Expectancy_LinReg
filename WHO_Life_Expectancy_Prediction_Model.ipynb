{
  "nbformat": 4,
  "nbformat_minor": 0,
  "metadata": {
    "colab": {
      "provenance": []
    },
    "kernelspec": {
      "name": "python3",
      "display_name": "Python 3"
    },
    "language_info": {
      "name": "python"
    }
  },
  "cells": [
    {
      "cell_type": "markdown",
      "source": [
        "<p style=\"text-align:center;\">\n",
        "<img src=\"https://www.icn.ch/sites/default/files/styles/icn_free_ratio/public/2023-06/WHO.jpg?h=960eb3b3&itok=autONhTv\"\n",
        "     alt=\"DigitalFuturesLogo\"\n",
        "     style=\"float: center; margin-right: 10px;\" />\n",
        "</p>\n"
      ],
      "metadata": {
        "id": "LMTsKpXG7XSM"
      }
    },
    {
      "cell_type": "markdown",
      "source": [
        "# WHO Life Expectancy Project - The Function\n",
        "## Root Team Squared Error\n",
        "\n",
        "----\n",
        "### Project Overview\n",
        "The aim is to construct two linear regression models for life expectancy based on the data provided by the WHO. One model which features as much data as necessary for model performance, and one which is restricted on the basis of what we evaluate to be sensitive data. The data spans 183 countries and records information between 2000 and 2015.\n",
        "\n",
        "### Team Members\n",
        "* Fátima González González\n",
        "* Lydia Drabkin-Reiter\n",
        "* Ollie Hanlon\n",
        "* Rowan Jarvis\n",
        "* Jake Haycocks\n",
        "\n",
        "----\n"
      ],
      "metadata": {
        "id": "h82cR2v4zBDa"
      }
    },
    {
      "cell_type": "markdown",
      "source": [
        "# FUNCTION"
      ],
      "metadata": {
        "id": "HmhO5tTpzL-W"
      }
    },
    {
      "cell_type": "code",
      "execution_count": null,
      "metadata": {
        "id": "cA5f-kF_vWkc"
      },
      "outputs": [],
      "source": [
        "import numpy as np"
      ]
    },
    {
      "cell_type": "code",
      "source": [
        "def model_selector():\n",
        "    \"\"\"\n",
        "    Allows a selection of model based on consent to using advanced population data, which may include protected information for better accuracy.\n",
        "\n",
        "    User Inputs:\n",
        "    Consent y/n\n",
        "    Returns:\n",
        "    best_performing_model or minimalistic_model (var): name of the chosen model\n",
        "    \"\"\"\n",
        "    model_choice = input(\"Do you consent to using advanced population data, which may include protected information for better accuracy? (y/n) \").lower().strip()\n",
        "    while True:\n",
        "        if model_choice == 'y':\n",
        "            return best_performing_model\n",
        "        elif model_choice == 'n':\n",
        "            return limited_model\n",
        "        else:\n",
        "          model_choice = input(\"Please, answer y/n. \\nDo you consent to using advanced population data, which may include protected information for better accuracy? (y/n) \").lower().strip()"
      ],
      "metadata": {
        "id": "2plt9-G9vxN6"
      },
      "execution_count": null,
      "outputs": []
    },
    {
      "cell_type": "code",
      "source": [
        "def get_data_from_user(model):\n",
        "    \"\"\"\n",
        "    Gets needed data from user for model\n",
        "\n",
        "    Args:\n",
        "    model (var) : model to use to extract the relevant columns\n",
        "\n",
        "    Returns:\n",
        "    scaled_values (list): scaled values to implement in the model\n",
        "    \"\"\"\n",
        "    # values empty list that will be filled with user input\n",
        "    values = []\n",
        "    for col in model['columns']:\n",
        "      values.append([col, float(input(f'Provide a value for {col}: ').strip())])\n",
        "      # for models with GDP, we calculate the log\n",
        "      if col == 'GDP':\n",
        "        values[-1][1] = np.log(values[-1][1])\n",
        "    # scaling the data (MinMaxScaler transformation)\n",
        "    scaled_values = scale(values, scaler)\n",
        "    return scaled_values"
      ],
      "metadata": {
        "id": "s0hAtgXT-r6o"
      },
      "execution_count": null,
      "outputs": []
    },
    {
      "cell_type": "code",
      "source": [
        "def scale(values, scaler):\n",
        "    \"\"\"\n",
        "    Scales list of values using MinMaxScaler transformation\n",
        "\n",
        "    Args:\n",
        "    values (list) : tuples in the form (column, input value)\n",
        "    scaler (dic)  : Dictionary with columns as keys and dictionaries of mins and maxes as values\n",
        "\n",
        "    Returns:\n",
        "    scaled_list (list): scaled list of input values\n",
        "    \"\"\"\n",
        "    scaled_list = []\n",
        "    for col, value in values:\n",
        "        X_std = (value - scaler[col]['min']) / (scaler[col]['max'] - scaler[col]['min'])\n",
        "        #    X_scaled = X_std * (1 - 0) + 0 #default max is 1, min is 0. It's usually * (max - min) + min\n",
        "        scaled_list.append(X_std)\n",
        "    return scaled_list"
      ],
      "metadata": {
        "id": "zKfEevSBv2bp"
      },
      "execution_count": null,
      "outputs": []
    },
    {
      "cell_type": "code",
      "source": [
        "def life_expectancy_predictor(model, scaled_values):\n",
        "    \"\"\"\n",
        "    Performs Life Expectancy prediction using a specificed model with the data provided by the user.\n",
        "\n",
        "    Args:\n",
        "    model (dic) : model to use for the prediction\n",
        "    scaled_values (list) : scaled values to use for the prediction\n",
        "\n",
        "    Returns:\n",
        "    life_expectancy_prediction (float) : predicted life expectancy\n",
        "\n",
        "    \"\"\"\n",
        "    # initialising life_expectancy_prediction with the constant value\n",
        "    life_expectancy_prediction = model['params'][0]\n",
        "    # implementing the model\n",
        "    for p, x in zip(model['params'][1:], scaled_values):\n",
        "      life_expectancy_prediction += p*x\n",
        "    # print statement with the final life expectancy prediction\n",
        "    if 40.639251 < life_expectancy_prediction < 97.072899:  # Predition within 3 standard deviation from the mean\n",
        "      print('The estimated Life Expectancy is ', round(life_expectancy_prediction, 2))\n",
        "    else:\n",
        "      # Life Expectancy out of expected ranges\n",
        "      print('\\nWarning: The estimated Life Expectancy is far out the expected range.\\n')\n",
        "      # Negative Life Expectancy retuns 0\n",
        "      if life_expectancy_prediction < 0:\n",
        "        life_expectancy_prediction = 0\n",
        "      print('The estimated Life Expectancy is ', round(life_expectancy_prediction, 2))\n",
        "    # returns life_expectancy_prediction value (float) in case it is wanted for futher use\n",
        "    return life_expectancy_prediction"
      ],
      "metadata": {
        "id": "aLbGqUGCv9_w"
      },
      "execution_count": null,
      "outputs": []
    },
    {
      "cell_type": "code",
      "source": [
        "def main ():\n",
        "    model = model_selector()\n",
        "    scaled_values = get_data_from_user(model)\n",
        "    life_expectancy_predictor(model, scaled_values)"
      ],
      "metadata": {
        "id": "ZEPtDLp4AYoT"
      },
      "execution_count": null,
      "outputs": []
    },
    {
      "cell_type": "code",
      "source": [
        "# DATA\n",
        "best_performing_model = {'columns':['Adult Mortality', 'Infant Deaths', 'GDP'], 'params' : [76.6453, -30.258006, -17.446125, 4.720947]}\n",
        "limited_model = {'columns':['Adult Mortality', 'GDP'], 'params' : [71.265829, -40.091971, 12.347190]}\n",
        "scaler = {'GDP': {'max': 11.629979 , 'min': 4.997212}, 'Adult Mortality': {'max': 703.677, 'min': 49.384}, 'Year': {'max': 2015, 'min': 2000},'Infant Deaths': {'max': 135.6, 'min': 1.8}}"
      ],
      "metadata": {
        "id": "B0p6NZjVwA5Q"
      },
      "execution_count": null,
      "outputs": []
    },
    {
      "cell_type": "markdown",
      "source": [
        "### Field descriptions"
      ],
      "metadata": {
        "id": "Yj7xVGzt810R"
      }
    },
    {
      "cell_type": "markdown",
      "source": [
        "|Field|Description|\n",
        "|---:|:---|\n",
        "|Life expectancy|Life Expectancy in age|\n",
        "|Adult Mortality|Adult Mortality Rates of both sexes (probability of dying between 15 and 60 years per 1000 population)|\n",
        "|infant deaths|Number of Infant Deaths per 1000 population|\n",
        "GDP|Gross Domestic Product per capita (in USD)|"
      ],
      "metadata": {
        "id": "zmp8iAK65VEe"
      }
    },
    {
      "cell_type": "markdown",
      "source": [
        "### Execution of main function"
      ],
      "metadata": {
        "id": "P5Qud7kF-BeV"
      }
    },
    {
      "cell_type": "code",
      "source": [
        "main()"
      ],
      "metadata": {
        "id": "3v-06OXs1NbR",
        "colab": {
          "base_uri": "https://localhost:8080/"
        },
        "outputId": "33ba4c5b-7022-449c-8720-805b3b75cbdf"
      },
      "execution_count": null,
      "outputs": [
        {
          "output_type": "stream",
          "name": "stdout",
          "text": [
            "Do you consent to using advanced population data, which may include protected information for better accuracy? (y/n) y\n",
            "Provide a value for Adult Mortality: 73\n",
            "Provide a value for Infant Deaths: -20\n",
            "Provide a value for GDP: 55\n",
            "The estimated Life Expectancy is  77.69\n"
          ]
        }
      ]
    },
    {
      "cell_type": "markdown",
      "source": [
        "## Examples"
      ],
      "metadata": {
        "id": "_qUE6T-6870M"
      }
    },
    {
      "cell_type": "markdown",
      "source": [
        "Testing data"
      ],
      "metadata": {
        "id": "yU4rPh379ZTg"
      }
    },
    {
      "cell_type": "markdown",
      "source": [
        "|Field|Value|\n",
        "|---:|:---|\n",
        "|Adult Mortality|176.6680|\n",
        "|Infant Deaths|14.3|\n",
        "|GDP|35863|\n",
        "|**Life expectancy**|**72.0**|\n",
        "\n"
      ],
      "metadata": {
        "id": "MWAHE5CJ1x2Q"
      }
    },
    {
      "cell_type": "markdown",
      "source": [
        "### Model 1: general model (answering 'y')"
      ],
      "metadata": {
        "id": "0rj3hlrC9jRa"
      }
    },
    {
      "cell_type": "code",
      "source": [
        "main()"
      ],
      "metadata": {
        "id": "F5AudcyTlC3V",
        "colab": {
          "base_uri": "https://localhost:8080/"
        },
        "outputId": "df42fa3b-93b3-40ff-e28a-54773539d210"
      },
      "execution_count": null,
      "outputs": [
        {
          "output_type": "stream",
          "name": "stdout",
          "text": [
            "Do you consent to using advanced population data, which may include protected information for better accuracy? (y/n) y\n",
            "Provide a value for Adult Mortality: 176.6680\n",
            "Provide a value for Infant Deaths: 14.3\n",
            "Provide a value for GDP: 35863 \n",
            "The estimated Life Expectancy is  73.04\n"
          ]
        }
      ]
    },
    {
      "cell_type": "code",
      "source": [
        "print('Off by', round(73.04 - 72, 2), 'years' )"
      ],
      "metadata": {
        "colab": {
          "base_uri": "https://localhost:8080/"
        },
        "id": "UpN2Jrud3aiP",
        "outputId": "34eac094-3c67-46d3-b922-6254897261b4"
      },
      "execution_count": null,
      "outputs": [
        {
          "output_type": "stream",
          "name": "stdout",
          "text": [
            "Off by 1.04 years\n"
          ]
        }
      ]
    },
    {
      "cell_type": "markdown",
      "source": [
        " RMSE: **1.471**"
      ],
      "metadata": {
        "id": "E7G3nHFXC7Ng"
      }
    },
    {
      "cell_type": "markdown",
      "source": [
        "### Model 2: limited model (answering 'n')"
      ],
      "metadata": {
        "id": "rYnhUBbF9tIa"
      }
    },
    {
      "cell_type": "code",
      "source": [
        "main()"
      ],
      "metadata": {
        "colab": {
          "base_uri": "https://localhost:8080/"
        },
        "id": "B_cEeEOi4xjz",
        "outputId": "a604ef33-541a-45aa-aa8b-e26beeaccb41"
      },
      "execution_count": null,
      "outputs": [
        {
          "output_type": "stream",
          "name": "stdout",
          "text": [
            "Do you consent to using advanced population data, which may include protected information for better accuracy? (y/n) n\n",
            "Provide a value for Adult Mortality: 176.6680\n",
            "Provide a value for GDP: 35863\n",
            "The estimated Life Expectancy is  73.69\n"
          ]
        }
      ]
    },
    {
      "cell_type": "code",
      "source": [
        "print('Off by',round(73.69 - 72, 2), 'years')"
      ],
      "metadata": {
        "colab": {
          "base_uri": "https://localhost:8080/"
        },
        "id": "cH8dCjvV4843",
        "outputId": "b2ae03e6-89ec-4fba-f212-8d8fb2667fbe"
      },
      "execution_count": null,
      "outputs": [
        {
          "output_type": "stream",
          "name": "stdout",
          "text": [
            "Off by 1.69 years\n"
          ]
        }
      ]
    },
    {
      "cell_type": "markdown",
      "source": [
        "RMSE: **2.418**"
      ],
      "metadata": {
        "id": "JDVEWi0FDANa"
      }
    },
    {
      "cell_type": "markdown",
      "source": [
        "### Out of range values"
      ],
      "metadata": {
        "id": "f6puqToQ90Vc"
      }
    },
    {
      "cell_type": "markdown",
      "source": [
        "We implemented a warning statement for out of range values."
      ],
      "metadata": {
        "id": "if83ONjEpuvh"
      }
    },
    {
      "cell_type": "code",
      "source": [
        "main()"
      ],
      "metadata": {
        "colab": {
          "base_uri": "https://localhost:8080/"
        },
        "id": "EVtM0Y2H5PrY",
        "outputId": "cbb56b7b-b061-4ef0-c52c-442bca858b2a"
      },
      "execution_count": null,
      "outputs": [
        {
          "output_type": "stream",
          "name": "stdout",
          "text": [
            "Do you consent to using advanced population data, which may include protected information for better accuracy? (y/n) n\n",
            "Provide a value for Adult Mortality: 10000000\n",
            "Provide a value for GDP: 10000000000\n",
            "\n",
            "Warning: The estimated Life Expectancy is far out the expected range.\n",
            "\n",
            "The estimated Life Expectancy is  0\n"
          ]
        }
      ]
    },
    {
      "cell_type": "code",
      "source": [
        "main()"
      ],
      "metadata": {
        "colab": {
          "base_uri": "https://localhost:8080/"
        },
        "id": "fXB5xc838qTN",
        "outputId": "26462b1a-7804-469e-9c9e-a7e6fe7361e5"
      },
      "execution_count": null,
      "outputs": [
        {
          "output_type": "stream",
          "name": "stdout",
          "text": [
            "Do you consent to using advanced population data, which may include protected information for better accuracy? (y/n) n\n",
            "Provide a value for Adult Mortality: 0\n",
            "Provide a value for GDP: 1000000000\n",
            "\n",
            "Warning: The estimated Life Expectancy is far out the expected range.\n",
            "\n",
            "The estimated Life Expectancy is  103.57\n"
          ]
        }
      ]
    }
  ]
}